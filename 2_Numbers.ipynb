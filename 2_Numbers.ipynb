{
  "cells": [
    {
      "cell_type": "markdown",
      "metadata": {
        "id": "view-in-github",
        "colab_type": "text"
      },
      "source": [
        "<a href=\"https://colab.research.google.com/github/cubeV7/Home_Assignment/blob/main/2_Numbers.ipynb\" target=\"_parent\"><img src=\"https://colab.research.google.com/assets/colab-badge.svg\" alt=\"Open In Colab\"/></a>"
      ]
    },
    {
      "cell_type": "markdown",
      "metadata": {
        "id": "tRAzl8xl3nZU"
      },
      "source": [
        "# Numbers\n",
        "Python stores numbers in two types:\n",
        "1. Integers\n",
        "2. Floating point"
      ]
    },
    {
      "cell_type": "markdown",
      "metadata": {
        "id": "WoXrqjUA3nZZ"
      },
      "source": [
        "- Integers or ints are whole numbers without any decimal places like age, number of days in month, class in which you study etc.\n",
        "- Floating point numbers or just floats are numbers with decimals in them like the temprature today, etc.\n",
        "- Both ints and floats cab be positive or negative.\n",
        "\n",
        "Let's create some number in python"
      ]
    },
    {
      "cell_type": "code",
      "execution_count": 1,
      "metadata": {
        "id": "Yx0W3_8_3nZZ"
      },
      "outputs": [],
      "source": [
        "# create numbers in python\n",
        "a = 20\n",
        "b = 5\n",
        "c = 1.2\n",
        "d = -45"
      ]
    },
    {
      "cell_type": "markdown",
      "metadata": {
        "id": "8OfyjPmd3nZb"
      },
      "source": [
        "Now that we have declared some variables with ints and floats, let's do some basic math with them"
      ]
    },
    {
      "cell_type": "code",
      "execution_count": 2,
      "metadata": {
        "id": "W8qKS92P3nZb",
        "outputId": "3ac28333-b94a-4549-885e-ef8ae563f5fa",
        "colab": {
          "base_uri": "https://localhost:8080/"
        }
      },
      "outputs": [
        {
          "output_type": "stream",
          "name": "stdout",
          "text": [
            "25\n",
            "21.2\n"
          ]
        }
      ],
      "source": [
        "print (a + b) # add int\n",
        "print (a + c) # add float"
      ]
    },
    {
      "cell_type": "code",
      "execution_count": 3,
      "metadata": {
        "id": "K3TVhrNH3nZc",
        "outputId": "cd44a0bd-be48-49ce-f3b4-6ffd4ae8fdab",
        "colab": {
          "base_uri": "https://localhost:8080/"
        }
      },
      "outputs": [
        {
          "output_type": "stream",
          "name": "stdout",
          "text": [
            "15\n",
            "18.8\n"
          ]
        }
      ],
      "source": [
        "print(a - b) # subtract int\n",
        "print(a - c) # subtract float"
      ]
    },
    {
      "cell_type": "code",
      "execution_count": 4,
      "metadata": {
        "colab": {
          "base_uri": "https://localhost:8080/"
        },
        "id": "v31KzpbH3nZd",
        "outputId": "f09ffd8a-b4d6-452e-e87e-ab7086810ef9"
      },
      "outputs": [
        {
          "output_type": "stream",
          "name": "stdout",
          "text": [
            "24.0\n",
            "-225\n"
          ]
        }
      ],
      "source": [
        "print (a * c) # product float\n",
        "print (b * d) # product negative"
      ]
    },
    {
      "cell_type": "code",
      "execution_count": 5,
      "metadata": {
        "colab": {
          "base_uri": "https://localhost:8080/"
        },
        "id": "2zTyjULy3nZd",
        "outputId": "7ce76ca2-629b-434a-e079-6c6840ee1be6"
      },
      "outputs": [
        {
          "output_type": "stream",
          "name": "stdout",
          "text": [
            "0.25\n",
            "-9.0\n",
            "0\n",
            "4\n"
          ]
        }
      ],
      "source": [
        "# division\n",
        "print(b/a)\n",
        "print(d/b)\n",
        "# int division: we get only int\n",
        "print(b//a)\n",
        "print(a//b)"
      ]
    },
    {
      "cell_type": "code",
      "execution_count": 6,
      "metadata": {
        "colab": {
          "base_uri": "https://localhost:8080/"
        },
        "id": "EwPHYpn43nZe",
        "outputId": "0afdaba6-3b91-4084-bf39-2f481cd34601"
      },
      "outputs": [
        {
          "output_type": "stream",
          "name": "stdout",
          "text": [
            "5\n",
            "0\n"
          ]
        }
      ],
      "source": [
        "# remainder of operation x / y\n",
        "print(b%a)\n",
        "print(a%b)"
      ]
    },
    {
      "cell_type": "code",
      "execution_count": 7,
      "metadata": {
        "colab": {
          "base_uri": "https://localhost:8080/"
        },
        "id": "38rJUlT-3nZe",
        "outputId": "8dc6f002-e3e3-4155-ad1f-a3fd8958b65d"
      },
      "outputs": [
        {
          "output_type": "stream",
          "name": "stdout",
          "text": [
            "1\n",
            "2.5\n"
          ]
        }
      ],
      "source": [
        "# absolute value of x\n",
        "x1 = - 1\n",
        "x2 = -2.5\n",
        "print(abs(x1)) # absolute value int\n",
        "print(abs(x2)) # absolute value float"
      ]
    },
    {
      "cell_type": "code",
      "execution_count": 8,
      "metadata": {
        "colab": {
          "base_uri": "https://localhost:8080/"
        },
        "id": "KfhEmQc13nZf",
        "outputId": "e3a81a6a-647c-45cc-f563-8b6f84d357c3"
      },
      "outputs": [
        {
          "output_type": "stream",
          "name": "stdout",
          "text": [
            "3200000\n",
            "3200000\n"
          ]
        }
      ],
      "source": [
        "# x to the power y\n",
        "print(a ** b)\n",
        "print(pow(a,b))"
      ]
    },
    {
      "cell_type": "code",
      "execution_count": 9,
      "metadata": {
        "colab": {
          "base_uri": "https://localhost:8080/"
        },
        "id": "ksaoB4bl3nZf",
        "outputId": "9b06e780-2345-410c-c06f-f8176c13d51a"
      },
      "outputs": [
        {
          "output_type": "stream",
          "name": "stdout",
          "text": [
            "10\n",
            "35\n"
          ]
        }
      ],
      "source": [
        "# convert float to int\n",
        "# note the loss of precision\n",
        "e = 10.257\n",
        "f = 35.75\n",
        "print(int(e))\n",
        "print(int(f))"
      ]
    },
    {
      "cell_type": "code",
      "execution_count": 10,
      "metadata": {
        "colab": {
          "base_uri": "https://localhost:8080/"
        },
        "id": "ZzpGbISf3nZg",
        "outputId": "de3046ea-5e75-4e13-ab82-3e9f7dd2ead3"
      },
      "outputs": [
        {
          "output_type": "stream",
          "name": "stdout",
          "text": [
            "20.0\n",
            "-45.0\n"
          ]
        }
      ],
      "source": [
        "# convert int to float\n",
        "print(float(a))\n",
        "print(float(d))"
      ]
    },
    {
      "cell_type": "code",
      "source": [
        "# round\n",
        "print(round(e)) # round to the nearest integer\n",
        "print(round(f)) # round to the nearest integer\n",
        "print(round(e,1)) # round to 1 decimal place\n",
        "print(round(e,2)) # round to 2 decimal places"
      ],
      "metadata": {
        "colab": {
          "base_uri": "https://localhost:8080/"
        },
        "id": "wANTiUKZUVYv",
        "outputId": "f24bf6d9-e978-4151-eb23-d5e1ec2f710d"
      },
      "execution_count": 11,
      "outputs": [
        {
          "output_type": "stream",
          "name": "stdout",
          "text": [
            "10\n",
            "36\n",
            "10.3\n",
            "10.26\n"
          ]
        }
      ]
    },
    {
      "cell_type": "markdown",
      "metadata": {
        "id": "kTpyBXk13nZg"
      },
      "source": [
        "# Excercise\n",
        "1. Create a variable to store your age and another variable to store your sibling's age. Find the diffrence between the two.\n",
        "2. Convert the float number 3.4 to int.\n",
        "3. Convert the int number 10 to float.\n",
        "4. Find the data type of the number 2e35.\n",
        "5. What is the difference between division and integer division of 35 and 6.\n",
        "6. Round 6.7897 to 2 decimal places.\n",
        "7. Print the result of 4 raised to the power of -5.\n",
        "8. Create 3 variable to store the temperature of the last 3 days. Calculate the average temperature.  \n",
        "9. Create a variable to store today's temperature in Celsius. Convert it to Fahrenheit.\n",
        "10. Calculate the area of a circle with a radius of 5."
      ]
    },
    {
      "cell_type": "markdown",
      "metadata": {
        "id": "akbtf7Je3nZh"
      },
      "source": [
        "# Solution"
      ]
    },
    {
      "cell_type": "code",
      "execution_count": 12,
      "metadata": {
        "id": "s6DpkRrC3nZh",
        "outputId": "f050bb93-3770-47dd-8749-99078277a1f4",
        "colab": {
          "base_uri": "https://localhost:8080/"
        }
      },
      "outputs": [
        {
          "output_type": "stream",
          "name": "stdout",
          "text": [
            "3\n"
          ]
        }
      ],
      "source": [
        "# Excercise 1\n",
        "my_age = 30\n",
        "sibling_age = 27\n",
        "difference = my_age - sibling_age\n",
        "print(difference)"
      ]
    },
    {
      "cell_type": "code",
      "execution_count": 13,
      "metadata": {
        "id": "EcVDuXC83nZh",
        "outputId": "e6a8e73e-1e72-4947-bd11-56c5461c61ff",
        "colab": {
          "base_uri": "https://localhost:8080/"
        }
      },
      "outputs": [
        {
          "output_type": "stream",
          "name": "stdout",
          "text": [
            "3\n"
          ]
        }
      ],
      "source": [
        "# Excercise 2\n",
        "num_float = 3.4\n",
        "num_int = int(num_float)\n",
        "print(num_int)"
      ]
    },
    {
      "cell_type": "code",
      "execution_count": null,
      "metadata": {
        "id": "55Oj3mXA3nZh",
        "outputId": "1eeaf1ef-ca0b-4f85-a458-ceac700c1f3e"
      },
      "outputs": [
        {
          "name": "stdout",
          "output_type": "stream",
          "text": [
            "10.0\n"
          ]
        }
      ],
      "source": [
        "# Excercise 3\n",
        "num_int = 10\n",
        "num_float = float(num_int)\n",
        "print(num_float)"
      ]
    },
    {
      "cell_type": "code",
      "execution_count": null,
      "metadata": {
        "id": "fGzYuKbE3nZi",
        "outputId": "320f0e1f-f734-419b-e07e-01a9f84f6986"
      },
      "outputs": [
        {
          "data": {
            "text/plain": [
              "float"
            ]
          },
          "execution_count": 5,
          "metadata": {},
          "output_type": "execute_result"
        }
      ],
      "source": [
        "# Excercise 4\n",
        "type(2e35)"
      ]
    },
    {
      "cell_type": "code",
      "execution_count": null,
      "metadata": {
        "id": "tiPpbFUV3nZi",
        "outputId": "455392b2-2871-43cf-cdeb-ada4c327d768"
      },
      "outputs": [
        {
          "name": "stdout",
          "output_type": "stream",
          "text": [
            "0.833333333333333\n"
          ]
        }
      ],
      "source": [
        "# Excercise 5\n",
        "normal_div = 35/6\n",
        "int_div = 35//6\n",
        "diff = normal_div - int_div\n",
        "print(diff)"
      ]
    },
    {
      "cell_type": "code",
      "execution_count": null,
      "metadata": {
        "id": "w1PGvcBm3nZi",
        "outputId": "37b8dae8-2d4e-4a7d-d735-7d9846df222a"
      },
      "outputs": [
        {
          "data": {
            "text/plain": [
              "6.79"
            ]
          },
          "execution_count": 8,
          "metadata": {},
          "output_type": "execute_result"
        }
      ],
      "source": [
        "# Excercise 6\n",
        "round(6.7897,2)"
      ]
    },
    {
      "cell_type": "code",
      "execution_count": null,
      "metadata": {
        "id": "BKG90erG3nZi",
        "outputId": "9e8c2fc1-0a80-4e26-90e1-a91022ff6fe9"
      },
      "outputs": [
        {
          "name": "stdout",
          "output_type": "stream",
          "text": [
            "0.0009765625\n",
            "0.0009765625\n"
          ]
        }
      ],
      "source": [
        "# Excercise 7\n",
        "print(4**-5)\n",
        "print(pow(4,-5))"
      ]
    },
    {
      "cell_type": "code",
      "execution_count": null,
      "metadata": {
        "id": "y-adQSJq3nZj",
        "outputId": "b984224d-5cc6-4962-f533-8e38d615c08e"
      },
      "outputs": [
        {
          "name": "stdout",
          "output_type": "stream",
          "text": [
            "12.333333333333334\n"
          ]
        }
      ],
      "source": [
        "# Excercise 8\n",
        "day1_t =  12\n",
        "day2_t = 11\n",
        "day3_t = 14\n",
        "\n",
        "average = (day1_t + day2_t + day3_t) / 3\n",
        "print(average)"
      ]
    },
    {
      "cell_type": "code",
      "execution_count": null,
      "metadata": {
        "id": "e0rVQgOr3nZj",
        "outputId": "d4de8b58-a3ad-496a-f9c5-ba200203c54e"
      },
      "outputs": [
        {
          "name": "stdout",
          "output_type": "stream",
          "text": [
            "55.4\n"
          ]
        }
      ],
      "source": [
        "# Excercise 9\n",
        "cel = 13\n",
        "feh = (cel * 9/5) + 32\n",
        "print(feh)"
      ]
    },
    {
      "cell_type": "code",
      "execution_count": null,
      "metadata": {
        "colab": {
          "base_uri": "https://localhost:8080/"
        },
        "id": "ktDfSXfk3nZj",
        "outputId": "7c26c979-aac8-4d55-ec67-fc4c56f7e309"
      },
      "outputs": [
        {
          "output_type": "stream",
          "name": "stdout",
          "text": [
            "78.53975\n"
          ]
        }
      ],
      "source": [
        "# Excercise 10\n",
        "r = 5\n",
        "area = 3.14159 * r**2\n",
        "print(area)"
      ]
    }
  ],
  "metadata": {
    "kernelspec": {
      "display_name": "Python 3",
      "language": "python",
      "name": "python3"
    },
    "language_info": {
      "codemirror_mode": {
        "name": "ipython",
        "version": 3
      },
      "file_extension": ".py",
      "mimetype": "text/x-python",
      "name": "python",
      "nbconvert_exporter": "python",
      "pygments_lexer": "ipython3",
      "version": "3.9.7"
    },
    "orig_nbformat": 4,
    "vscode": {
      "interpreter": {
        "hash": "c882e5d6e705582f7d54725352ba2115957f6b1b48e8d4f226855e2a55288761"
      }
    },
    "colab": {
      "provenance": [],
      "include_colab_link": true
    }
  },
  "nbformat": 4,
  "nbformat_minor": 0
}